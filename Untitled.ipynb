{
 "cells": [
  {
   "cell_type": "code",
   "execution_count": 5,
   "metadata": {},
   "outputs": [
    {
     "name": "stdout",
     "output_type": "stream",
     "text": [
      "enter no of elements x: 4\n",
      "1\n",
      "3\n",
      "-1\n",
      "-4\n",
      "enter no of elements w: 4\n",
      "-1\n",
      "9\n",
      "-1\n",
      "8\n",
      "Enter value of lambda: 1\n",
      "net = -5\n",
      "Unipolar Threshold  0\n",
      "Bipolar Threshold  -1\n",
      "Unipolar_sigmoid  0.006696298300391907\n",
      "Bipolar_sigmoid  -0.9866074033992162\n"
     ]
    },
    {
     "data": {
      "image/png": "[encoded data removed]",
      "text/plain": [
       "<matplotlib.figure.Figure at 0x7fb5093deba8>"
      ]
     },
     "metadata": {},
     "output_type": "display_data"
    }
   ],
   "source": [
    "import numpy as np\n",
    "import matplotlib.pyplot as plt\n",
    "n=eval(input(\"enter no of elements x: \"))\n",
    "x=list()\n",
    "for i in range(0,n):\n",
    "    a=eval(input())\n",
    "    x.append (a)\n",
    "\n",
    "n=eval(input(\"enter no of elements w: \"))\n",
    "w=list()\n",
    "for i in range(0,n):\n",
    "    a=eval(input())\n",
    "    w.append(a)\n",
    "    \n",
    "y=eval(input(\"Enter value of lambda: \"))  \n",
    "\"\"\"Vector creation\n",
    "x=np.array(x)\n",
    "w=np.array(w)\n",
    "net=x.dot(w)\"\"\"        #vector scalar product\n",
    "\n",
    "def net():\n",
    "    sum=0\n",
    "    for i in range(0,n):\n",
    "        sum+=x[i]*w[i]\n",
    "    return sum\n",
    "net=net()\n",
    "print(\"net =\",net)\n",
    "def Unipolar_threshold(net):\n",
    "    if(net>=0):\n",
    "        O=1\n",
    "    O=0\n",
    "    return O\n",
    "\n",
    "def Bipolar_threshold(net):\n",
    "    if(net>=0):\n",
    "        O=1\n",
    "    O=-1\n",
    "    return O\n",
    "\n",
    "def Unipolar_sigmoid(net):\n",
    "    O=1/(1+(2.718)**(-y*net))\n",
    "    return O\n",
    "\n",
    "def Bipolar_sigmoid(net):\n",
    "    O=(1-(2.718)**(-y*net))/(1+(2.718)**(-y*net))\n",
    "    return O\n",
    "print(\"Unipolar Threshold \", Unipolar_threshold(net))\n",
    "print(\"Bipolar Threshold \",Bipolar_threshold(net))\n",
    "print(\"Unipolar_sigmoid \",Unipolar_sigmoid(net))\n",
    "print(\"Bipolar_sigmoid \",Bipolar_sigmoid(net))\n",
    "plt.plot(1,Bipolar_sigmoid(net),\"o\")\n",
    "\n",
    "import math\n",
    "\n",
    "def sigmoid(x):\n",
    "    a = []\n",
    "    for item in x:\n",
    "        a.append(1/(1+math.exp(-item)))\n",
    "    return a\n",
    "\n",
    "import matplotlib.pyplot as plt\n",
    "import numpy as np\n",
    "\n",
    "x = np.arange(-10.,10., 0.2)\n",
    "sig = sigmoid(x)\n",
    "plt.plot(x,sig)\n",
    "plt.show()\n"
   ]
  }
 ],
 "metadata": {
  "kernelspec": {
   "display_name": "Python 3",
   "language": "python",
   "name": "python3"
  },
  "language_info": {
   "codemirror_mode": {
    "name": "ipython",
    "version": 3
   },
   "file_extension": ".py",
   "mimetype": "text/x-python",
   "name": "python",
   "nbconvert_exporter": "python",
   "pygments_lexer": "ipython3",
   "version": "3.6.4"
  }
 },
 "nbformat": 4,
 "nbformat_minor": 2
}
